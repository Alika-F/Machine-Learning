{
 "cells": [
  {
   "cell_type": "markdown",
   "id": "fea028ef",
   "metadata": {},
   "source": [
    "# Лабораторная работа №1\n",
    "\n",
    "## Наивный Байесовский классификатор\n",
    "#### Фазылова Алика группа:5140201/30301\n",
    "\n",
    "### Задание 1\n",
    "Исследуйте, как объем обучающей выборки и количество тестовых данных, влияет на точность классификации или на вероятность ошибочной классификации в примере крестики-нолики и примере о спаме e-mail сообщений. \n",
    "\n",
    "### Обучающее множество: Tic Tac Toe (крестики-нолики)\n",
    "\n",
    "\"x\" начинает первым. Цель: \"победа x\"\n",
    "Признаки (категориальные – 3 значения):\n",
    "1. top-left-square: {x,o,b} \n",
    "2. top-middle-square: {x,o,b} \n",
    "3. top-right-square: {x,o,b} \n",
    "4. middle-left-square: {x,o,b} \n",
    "5. middle-middle-square: {x,o,b} \n",
    "6. middle-right-square: {x,o,b} \n",
    "7. bottom-left-square: {x,o,b} \n",
    "8. bottom-middle-square: {x,o,b} \n",
    "9. bottom-right-square: {x,o,b} \n",
    "\n",
    "3 класса: {positive,negative}\n"
   ]
  },
  {
   "cell_type": "code",
   "execution_count": 58,
   "id": "3a796f36",
   "metadata": {},
   "outputs": [
    {
     "name": "stdout",
     "output_type": "stream",
     "text": [
      "Requirement already satisfied: scikit-learn in c:\\users\\alika2\\anaconda3\\envs\\dz\\lib\\site-packages (1.3.2)\n",
      "Requirement already satisfied: numpy<2.0,>=1.17.3 in c:\\users\\alika2\\anaconda3\\envs\\dz\\lib\\site-packages (from scikit-learn) (1.26.1)\n",
      "Requirement already satisfied: scipy>=1.5.0 in c:\\users\\alika2\\anaconda3\\envs\\dz\\lib\\site-packages (from scikit-learn) (1.11.3)\n",
      "Requirement already satisfied: joblib>=1.1.1 in c:\\users\\alika2\\anaconda3\\envs\\dz\\lib\\site-packages (from scikit-learn) (1.3.2)\n",
      "Requirement already satisfied: threadpoolctl>=2.0.0 in c:\\users\\alika2\\anaconda3\\envs\\dz\\lib\\site-packages (from scikit-learn) (3.2.0)\n"
     ]
    }
   ],
   "source": [
    "!pip install scikit-learn\n",
    "import numpy as np\n",
    "import pandas as pd\n",
    "import matplotlib.pyplot as plt\n",
    "import sklearn\n",
    "\n",
    "from sklearn.model_selection import train_test_split\n",
    "from sklearn.naive_bayes import CategoricalNB\n",
    "from sklearn.naive_bayes import MultinomialNB\n",
    "from sklearn.naive_bayes import GaussianNB\n",
    "from sklearn.metrics import accuracy_score\n",
    "from sklearn.datasets import fetch_openml\n",
    "from sklearn.preprocessing import LabelEncoder\n"
   ]
  },
  {
   "cell_type": "code",
   "execution_count": 57,
   "id": "06f6744f",
   "metadata": {},
   "outputs": [
    {
     "name": "stdout",
     "output_type": "stream",
     "text": [
      "Для размера обучающей выборки: 10%, точность модели составляет: 69.03%\n",
      "Для размера обучающей выборки: 20%, точность модели составляет: 71.41%\n",
      "Для размера обучающей выборки: 30%, точность модели составляет: 71.19%\n",
      "Для размера обучающей выборки: 40%, точность модели составляет: 74.26%\n",
      "Для размера обучающей выборки: 50%, точность модели составляет: 73.9%\n",
      "Для размера обучающей выборки: 60%, точность модели составляет: 75.2%\n",
      "Для размера обучающей выборки: 70%, точность модели составляет: 72.57%\n",
      "Для размера обучающей выборки: 80%, точность модели составляет: 75.52%\n",
      "Для размера обучающей выборки: 90%, точность модели составляет: 77.08%\n"
     ]
    }
   ],
   "source": [
    "# Импортируем данные\n",
    "data = pd.read_csv(\"Tic_tac_toe.txt\", sep=\",\")\n",
    "\n",
    "# Выделим признаки и классы\n",
    "X = data.iloc[:, :-1]\n",
    "y = data.iloc[:, -1]\n",
    "\n",
    "# Проведем кодирование категориальных данных\n",
    "X = X.replace(['x', 'o', 'b'],[0,1,2])\n",
    "y = y.replace(['negative', 'positive'],[0,1])\n",
    "\n",
    "\n",
    "for train_size in range(10, 91, 10):\n",
    "    # Разделим на обучающую и тестовую выборки,их размеры меняются с циклом\n",
    "    X_train, X_test, y_train, y_test = train_test_split(X, y, train_size=train_size/100, random_state=34543)\n",
    "\n",
    "    # Используем модель наивного байесовского классификатора\n",
    "    classifier = CategoricalNB()\n",
    "    classifier.fit(X_train, y_train)\n",
    "\n",
    "    # Проведем прогнозирование на тестовой выборке \n",
    "    predict = classifier.predict(X_test)\n",
    "\n",
    "    # Оценим полученную модель\n",
    "    accuracy = round((accuracy_score(y_test, predict))*100,2)\n",
    "    print(f\"Для размера обучающей выборки: {train_size}%, точность модели составляет: {accuracy}%\")\n",
    "    \n",
    " \n"
   ]
  },
  {
   "cell_type": "markdown",
   "id": "6d6d8187",
   "metadata": {},
   "source": [
    "### Обучающее множество: Данные о спаме e-mail сообщений\n",
    "Данные собраны Hewlett-Packard Labs, которая классифицировала 4601 e-mail сообщений как спам или не спам. 57 признаков, содержащих частоты определенных слов, соответствующих названию признака и букв в сообщениях. Данные содержат 2788 e-mail сообщений, классифицируемых как \"не спам\" (0) and 1813 сообщений, классифицируемых как \"спам\" (1). Часть признаков – частоты определенных слов, соответствующих названию признака. Часть признаков связана с числом заглавных букв в письме. \n"
   ]
  },
  {
   "cell_type": "code",
   "execution_count": 59,
   "id": "7085b646",
   "metadata": {},
   "outputs": [
    {
     "name": "stdout",
     "output_type": "stream",
     "text": [
      "Для размера обучающей выборки: 10%, точность модели составляет: 78.34%\n",
      "Для размера обучающей выборки: 20%, точность модели составляет: 78.78%\n",
      "Для размера обучающей выборки: 30%, точность модели составляет: 79.11%\n",
      "Для размера обучающей выборки: 40%, точность модели составляет: 79.43%\n",
      "Для размера обучающей выборки: 50%, точность модели составляет: 78.1%\n",
      "Для размера обучающей выборки: 60%, точность модели составляет: 78.54%\n",
      "Для размера обучающей выборки: 70%, точность модели составляет: 79.22%\n",
      "Для размера обучающей выборки: 80%, точность модели составляет: 78.94%\n",
      "Для размера обучающей выборки: 90%, точность модели составляет: 81.13%\n"
     ]
    }
   ],
   "source": [
    "# Импортируем данные \n",
    "data = fetch_openml(data_id=44,parser='auto')\n",
    "\n",
    "# Преобразовываем в DataFrame\n",
    "df = pd.DataFrame(data.data, columns=data.feature_names)\n",
    "df['target'] = data.target\n",
    "\n",
    "# Выделим признаки и классы\n",
    "X = df.drop(columns=['target'])\n",
    "y = df['target']\n",
    "\n",
    "for train_size in range(10, 91, 10):\n",
    "    # Разделим на обучающую и тестовую выборки,их размеры меняются с циклом\n",
    "    X_train, X_test, y_train, y_test = train_test_split(X, y, train_size=train_size/100, random_state=1232221)\n",
    "\n",
    "    # Используем модель наивного байесовского классификатора\n",
    "    classifier = MultinomialNB()\n",
    "    classifier.fit(X_train, y_train)\n",
    "\n",
    "    # Проведем прогнозирование на тестовой выборке \n",
    "    predict = classifier.predict(X_test)\n",
    "\n",
    "    # Оценим полученную модель\n",
    "    accuracy = round((accuracy_score(y_test, predict))*100,2)\n",
    "    print(f\"Для размера обучающей выборки: {train_size}%, точность модели составляет: {accuracy}%\")"
   ]
  },
  {
   "cell_type": "markdown",
   "id": "748fb6e7",
   "metadata": {},
   "source": [
    "### Задание 2"
   ]
  },
  {
   "cell_type": "markdown",
   "id": "15a2be99",
   "metadata": {},
   "source": [
    "Сгенерируйте 100 точек с двумя признаками X1 и X2 в соответствии с нормальным распределением так, что первые 50 точек (class -1) имеют параметры: мат. ожидание X1  равно 10, мат. ожидание X2 равно 14, среднеквадратические отклонения для обеих переменных равны 4. Вторые 50 точек (class +1) имеют параметры: мат. ожидание X1 равно 20, мат. ожидание X2 равно 18, среднеквадратические отклонения для обеих переменных равны 3. Построить соответствующие диаграммы, иллюстрирующие данные. Построить байесовский классификатор и оценить качество классификации. \n"
   ]
  },
  {
   "cell_type": "code",
   "execution_count": 60,
   "id": "1cf750ab",
   "metadata": {},
   "outputs": [
    {
     "data": {
      "image/png": "[encoded data removed]",
      "text/plain": [
       "<Figure size 640x480 with 1 Axes>"
      ]
     },
     "metadata": {},
     "output_type": "display_data"
    },
    {
     "name": "stdout",
     "output_type": "stream",
     "text": [
      "Для размера обучающей выборки: 10%, точность модели составляет: 78.89%\n",
      "Для размера обучающей выборки: 20%, точность модели составляет: 92.5%\n",
      "Для размера обучающей выборки: 30%, точность модели составляет: 95.71%\n",
      "Для размера обучающей выборки: 40%, точность модели составляет: 96.67%\n",
      "Для размера обучающей выборки: 50%, точность модели составляет: 96.0%\n",
      "Для размера обучающей выборки: 60%, точность модели составляет: 97.5%\n",
      "Для размера обучающей выборки: 70%, точность модели составляет: 96.67%\n",
      "Для размера обучающей выборки: 80%, точность модели составляет: 95.0%\n",
      "Для размера обучающей выборки: 90%, точность модели составляет: 90.0%\n"
     ]
    }
   ],
   "source": [
    "#Сгенерируем данные\n",
    "np.random.seed(26463)\n",
    "mean1 = [10, 14]\n",
    "mean2 = [20, 18]\n",
    "std1 = [4, 4]\n",
    "std2 = [3, 3]\n",
    "\n",
    "Class_1 = np.random.normal(mean1, std1, (50, 2))\n",
    "Class_2 = np.random.normal(mean2, std2, (50, 2))\n",
    "\n",
    "# Создание набора признаков и классов\n",
    "X = np.vstack((Class_1, Class_2))\n",
    "y = np.hstack((-np.ones(50), np.ones(50)))\n",
    "\n",
    "# Построим диаграмму\n",
    "plt.scatter(Class_1[:, 0], Class_1[:, 1], label='Class -1')\n",
    "plt.scatter(Class_2[:, 0], Class_2[:, 1], label='Class +1')\n",
    "plt.legend()\n",
    "plt.xlabel('X1')\n",
    "plt.ylabel('X2')\n",
    "plt.show()\n",
    "     \n",
    "for train_size in range(10, 91, 10):\n",
    "    # Разделим на обучающую и тестовую выборки,их размеры меняются с циклом\n",
    "    X_train, X_test, y_train, y_test = train_test_split(X, y, train_size=train_size/100, random_state=1232221)\n",
    "\n",
    "    # Используем модель наивного байесовского классификатора\n",
    "    classifier = GaussianNB()\n",
    "    classifier.fit(X_train, y_train)\n",
    "\n",
    "    # Проведем прогнозирование \n",
    "    predict = classifier.predict(X_test)\n",
    "\n",
    "    # Оценим полученную модель\n",
    "    accuracy = round((accuracy_score(y_test, predict))*100,2)\n",
    "    print(f\"Для размера обучающей выборки: {train_size}%, точность модели составляет: {accuracy}%\")"
   ]
  },
  {
   "cell_type": "markdown",
   "id": "d4c0c396",
   "metadata": {},
   "source": [
    "### Задание 3\n",
    "Разработать байесовский классификатор для данных Титаник (Titanic dataset) - https://www.kaggle.com/c/titanic\n",
    "Исходные обучающие данные для классификации – в файле Titanic_train.csv\n",
    "Данные для тестирования – в файле Titanic_test.csv\n",
    "Использовать функцию read.csv для чтения данных из csv-файлов. \n",
    "Классы:   \n",
    "survival        Выжил  (0 = No; 1 = Yes)  \n",
    "Признаки:  \n",
    "pclass         Класс каюты  (1 = 1st; 2 = 2nd; 3 = 3rd)  \n",
    "name          Имя  \n",
    "sex             Пол  \n",
    "age             Возраст  \n",
    "sibsp           Число братьев-сестер/муж-жена на борту  \n",
    "parch          Число родителей/детей на борту  \n",
    "ticket          Номер билета  \n",
    "fare             Стоимость билета  \n",
    "cabin           Каюта  \n",
    "embarked    Порт посадки (C = Cherbourg; Q = Queenstown; S = Southampton)  \n",
    "Специальные отметки:  \n",
    "Pclass: 1st ~ Верхний; 2nd ~ Средний; 3rd ~ Нижний  \n",
    "Age – в годах; дробный, если возраст меньше одного года  \n",
    "\n",
    " "
   ]
  },
  {
   "cell_type": "code",
   "execution_count": 63,
   "id": "730f5742",
   "metadata": {},
   "outputs": [
    {
     "name": "stdout",
     "output_type": "stream",
     "text": [
      "Выживших: 179\n",
      "Умерших: 239\n",
      "Точность модели на тренировочных данных: 79.24%\n"
     ]
    }
   ],
   "source": [
    "# Чтение обучающих данных из файла Titanic_train.csv\n",
    "train_data = pd.read_csv('Titanic_train.csv')\n",
    "\n",
    "# Чтение тестовых данных из файла Titanic_test.csv\n",
    "test_data = pd.read_csv('Titanic_test.csv')\n",
    "\n",
    "# Объединим выборки\n",
    "combined_data = pd.concat([train_data, test_data], ignore_index=True)\n",
    "\n",
    "# Проведем предварительную подготовку данных\n",
    "\n",
    "# Удалим столбцы, не учавствующие в анализе\n",
    "combined_data.drop(columns=[\"PassengerId\",\"Name\", \"Ticket\", \"Cabin\" ],inplace=True)\n",
    "\n",
    "# Заполним недостающие данные\n",
    "combined_data['Age'].fillna(combined_data['Age'].mean(), inplace=True)\n",
    "combined_data['Fare'].fillna(combined_data['Fare'].mean(), inplace=True)\n",
    "combined_data[\"Embarked\"].fillna(combined_data[\"Embarked\"].mode()[0], inplace=True)\n",
    "\n",
    "# Кодируем категориальные признаки\n",
    "combined_data['Sex'] = LabelEncoder().fit_transform(combined_data['Sex'])\n",
    "combined_data['Embarked'] = LabelEncoder().fit_transform(combined_data['Embarked'])\n",
    "\n",
    "# Разделим выборки\n",
    "train_data1 = combined_data[:891]\n",
    "test_data1 = combined_data[891:].reset_index(drop=True)\n",
    "\n",
    "# Выделим признаки и классы\n",
    "X_train = train_data1.drop(columns=[\"Survived\"])\n",
    "y_train = train_data1[\"Survived\"]\n",
    "\n",
    "X_test = test_data1.drop(columns=[\"Survived\"])\n",
    "y_test = test_data1[\"Survived\"]\n",
    "\n",
    "# Используем модель наивного байесовского классификатора\n",
    "classifier = GaussianNB()\n",
    "classifier.fit(X_train, y_train)\n",
    "\n",
    "# Проведем прогнозирование на тестовой выборке \n",
    "predict = classifier.predict(X_test)\n",
    "\n",
    "survived = sum(predict)\n",
    "died = len(predict)-survived\n",
    "print(\"Выживших:\", int(survived))\n",
    "print (\"Умерших:\", int(died))\n",
    "\n",
    "# Оценим точность модели на тренировочных данных\n",
    "accuracy = round(classifier.score(X_train, y_train) * 100, 2)\n",
    "print (f\"Точность модели на тренировочных данных: {accuracy}%\")"
   ]
  },
  {
   "cell_type": "code",
   "execution_count": null,
   "id": "efaa78e6",
   "metadata": {},
   "outputs": [],
   "source": []
  }
 ],
 "metadata": {
  "kernelspec": {
   "display_name": "Python 3 (ipykernel)",
   "language": "python",
   "name": "python3"
  },
  "language_info": {
   "codemirror_mode": {
    "name": "ipython",
    "version": 3
   },
   "file_extension": ".py",
   "mimetype": "text/x-python",
   "name": "python",
   "nbconvert_exporter": "python",
   "pygments_lexer": "ipython3",
   "version": "3.11.4"
  }
 },
 "nbformat": 4,
 "nbformat_minor": 5
}
